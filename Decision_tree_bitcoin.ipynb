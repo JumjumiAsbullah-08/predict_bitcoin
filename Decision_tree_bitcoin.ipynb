{
 "cells": [
  {
   "cell_type": "code",
   "execution_count": 4,
   "id": "62427935",
   "metadata": {},
   "outputs": [
    {
     "data": {
      "text/plain": [
       "'tree_decision_btc.pdf'"
      ]
     },
     "execution_count": 4,
     "metadata": {},
     "output_type": "execute_result"
    }
   ],
   "source": [
    "import pandas as pd\n",
    "from sklearn.tree import DecisionTreeRegressor\n",
    "from sklearn.model_selection import train_test_split\n",
    "from sklearn.tree import export_text\n",
    "import matplotlib.pyplot as plt\n",
    "from sklearn.tree import export_graphviz\n",
    "import graphviz\n",
    "from sklearn import tree\n",
    "from IPython.display import Image\n",
    "import pydotplus\n",
    "\n",
    "# Load dataset and preprocess the data\n",
    "data_path = \"C:/project-btc/asli.csv\"\n",
    "df = pd.read_csv(data_path)\n",
    "\n",
    "# Preprocess the data\n",
    "df['Date'] = pd.to_datetime(df['Date'])\n",
    "df.set_index('Date', inplace=True)\n",
    "\n",
    "# Pra-pemrosesan data: Mengubah format 'Vol.' menjadi float\n",
    "df['Vol'] = df['Vol'].replace('-', float('nan'))  # Ganti '-' dengan NaN\n",
    "df['Vol'] = df['Vol'].fillna(0)  # Isi nilai NaN dengan 0\n",
    "df['Vol'] = df['Vol'].astype(float)  # Konversi ke float\n",
    "\n",
    "# Pra-pemrosesan data: Mengubah format 'Vol.' dan 'Change %' menjadi float\n",
    "df['Change'] = df['Change'].str.replace('%', '').astype(float)\n",
    "    \n",
    "# Select features and target variable\n",
    "features = ['Open', 'High', 'Low', 'Vol', 'Change']\n",
    "target = 'Price'\n",
    "\n",
    "# Split the data into train and test sets\n",
    "X = df[features]\n",
    "y = df[target]\n",
    "X_train, X_test, y_train, y_test = train_test_split(X, y, test_size=0.2, random_state=42)\n",
    "\n",
    "# Train the Decision Tree model\n",
    "decision_tree_model = DecisionTreeRegressor()\n",
    "decision_tree_model.fit(X_train, y_train)\n",
    "\n",
    "# Mengambil salah satu estimator dari model (misalnya, estimator pertama)\n",
    "tree_estimator = decision_tree_model\n",
    "\n",
    "# Export pohon keputusan dalam format DOT\n",
    "dot_data = export_graphviz(tree_estimator, out_file=None, \n",
    "                           feature_names=features,  \n",
    "                           filled=True, rounded=True, special_characters=True)\n",
    "\n",
    "# Membuat objek Graphviz\n",
    "graph = graphviz.Source(dot_data)\n",
    "\n",
    "# Menampilkan gambar pohon keputusan\n",
    "graph.view(\"tree_decision_btc\")\n"
   ]
  },
  {
   "cell_type": "code",
   "execution_count": null,
   "id": "a1565f39",
   "metadata": {},
   "outputs": [],
   "source": []
  }
 ],
 "metadata": {
  "kernelspec": {
   "display_name": "Python 3 (ipykernel)",
   "language": "python",
   "name": "python3"
  },
  "language_info": {
   "codemirror_mode": {
    "name": "ipython",
    "version": 3
   },
   "file_extension": ".py",
   "mimetype": "text/x-python",
   "name": "python",
   "nbconvert_exporter": "python",
   "pygments_lexer": "ipython3",
   "version": "3.9.13"
  }
 },
 "nbformat": 4,
 "nbformat_minor": 5
}
